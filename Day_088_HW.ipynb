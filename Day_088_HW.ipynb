{
 "cells": [
  {
   "cell_type": "markdown",
   "metadata": {},
   "source": [
    "## Work\n",
    "1. 請嘗試寫一個 callback 用來記錄各類別在訓練過程中，對驗證集的 True Positive 與 True Negative"
   ]
  },
  {
   "cell_type": "code",
   "execution_count": 1,
   "metadata": {},
   "outputs": [
    {
     "name": "stderr",
     "output_type": "stream",
     "text": [
      "Using TensorFlow backend.\n"
     ]
    }
   ],
   "source": [
    "import os\n",
    "import keras\n",
    "\n",
    "# Disable GPU\n",
    "os.environ[\"CUDA_VISIBLE_DEVICES\"] = \"\""
   ]
  },
  {
   "cell_type": "code",
   "execution_count": 2,
   "metadata": {},
   "outputs": [],
   "source": [
    "train, test = keras.datasets.cifar10.load_data()"
   ]
  },
  {
   "cell_type": "code",
   "execution_count": 9,
   "metadata": {},
   "outputs": [],
   "source": [
    "## 資料前處理\n",
    "def preproc_x(x, flatten=True):\n",
    "    x = x / 255.\n",
    "    if flatten:\n",
    "        x = x.reshape((len(x), -1))\n",
    "    return x\n",
    "\n",
    "def preproc_y(y, num_classes=10):\n",
    "    if y.shape[-1] == 1:\n",
    "        y = keras.utils.to_categorical(y, num_classes)\n",
    "    return y    "
   ]
  },
  {
   "cell_type": "code",
   "execution_count": 10,
   "metadata": {},
   "outputs": [],
   "source": [
    "x_train, y_train = train\n",
    "x_test, y_test = test\n",
    "\n",
    "# Preproc the inputs\n",
    "x_train = preproc_x(x_train)\n",
    "x_test = preproc_x(x_test)\n",
    "\n",
    "# Preprc the outputs\n",
    "y_train = preproc_y(y_train)\n",
    "y_test = preproc_y(y_test)"
   ]
  },
  {
   "cell_type": "code",
   "execution_count": 11,
   "metadata": {},
   "outputs": [],
   "source": [
    "from keras.layers import BatchNormalization\n",
    "def build_mlp(input_shape, output_units=10, num_neurons=[256, 256, 256]):\n",
    "    \"\"\"Code Here\n",
    "    建立你的神經網路\n",
    "    \"\"\"\n",
    "    input_layer = keras.layers.Input(input_shape)\n",
    "    \n",
    "    for i, n_units in enumerate(num_neurons):\n",
    "        if i == 0:\n",
    "            x = keras.layers.Dense(units=n_units, \n",
    "                                   activation=\"relu\", \n",
    "                                   name=\"hidden_layer\"+str(i+1))(input_layer)\n",
    "            x = BatchNormalization()(x)\n",
    "        else:\n",
    "            x = keras.layers.Dense(units=n_units, \n",
    "                                   activation=\"relu\", \n",
    "                                   name=\"hidden_layer\"+str(i+1))(x)\n",
    "            x = BatchNormalization()(x)\n",
    "    \n",
    "    out = keras.layers.Dense(units=output_units, activation=\"softmax\", name=\"output\")(x)\n",
    "    \n",
    "    model = keras.models.Model(inputs=[input_layer], outputs=[out])\n",
    "    return model"
   ]
  },
  {
   "cell_type": "code",
   "execution_count": 21,
   "metadata": {},
   "outputs": [],
   "source": [
    "## 超參數設定\n",
    "LEARNING_RATE = 1e-3\n",
    "EPOCHS = 50\n",
    "BATCH_SIZE = 1024\n",
    "MOMENTUM = 0.95"
   ]
  },
  {
   "cell_type": "code",
   "execution_count": 22,
   "metadata": {},
   "outputs": [],
   "source": [
    "# 載入 Callbacks\n",
    "from keras.callbacks import Callback\n",
    "from sklearn.metrics import f1_score\n",
    "\n",
    "# Record_fp_tp\n",
    "class Record_tp_tn(Callback):\n",
    "    \"\"\"Code Here\n",
    "    撰寫一個紀錄 ture positive 與 true negative 數量的 callbacks    \n",
    "    \"\"\"\n",
    "    def on_train_begin(self, epoch, logs = {}):\n",
    "        logs = logs or {}\n",
    "        record_items = [\"val_tp\", \"val_tn\"]\n",
    "        for i in record_items:\n",
    "            if i not in self.params['metrics']:\n",
    "                self.params['metrics'].append(i)\n",
    "    \n",
    "    def on_epoch_end(self, epoch, logs = {}, thres=0.5):\n",
    "        logs = logs or {}\n",
    "        y_true = self.validation_data[1].argmax(axis = 1)\n",
    "        y_pred = self.model.predict(self.validation_data[0])\n",
    "        y_pred = (y_pred[:, 1] >= thres) * 1\n",
    "        \n",
    "        logs[\"val_tp\"] = sum((y_true==1) & (y_pred==1))\n",
    "        logs[\"val_tn\"] = sum((y_true==0) & (y_pred==0))\n",
    "        \n",
    "rec_tptn = Record_tp_tn()"
   ]
  },
  {
   "cell_type": "code",
   "execution_count": 23,
   "metadata": {
    "scrolled": true
   },
   "outputs": [
    {
     "name": "stdout",
     "output_type": "stream",
     "text": [
      "_________________________________________________________________\n",
      "Layer (type)                 Output Shape              Param #   \n",
      "=================================================================\n",
      "input_5 (InputLayer)         (None, 3072)              0         \n",
      "_________________________________________________________________\n",
      "hidden_layer1 (Dense)        (None, 256)               786688    \n",
      "_________________________________________________________________\n",
      "batch_normalization_13 (Batc (None, 256)               1024      \n",
      "_________________________________________________________________\n",
      "hidden_layer2 (Dense)        (None, 256)               65792     \n",
      "_________________________________________________________________\n",
      "batch_normalization_14 (Batc (None, 256)               1024      \n",
      "_________________________________________________________________\n",
      "hidden_layer3 (Dense)        (None, 256)               65792     \n",
      "_________________________________________________________________\n",
      "batch_normalization_15 (Batc (None, 256)               1024      \n",
      "_________________________________________________________________\n",
      "output (Dense)               (None, 10)                2570      \n",
      "=================================================================\n",
      "Total params: 923,914\n",
      "Trainable params: 922,378\n",
      "Non-trainable params: 1,536\n",
      "_________________________________________________________________\n",
      "Train on 50000 samples, validate on 10000 samples\n",
      "Epoch 1/50\n",
      "50000/50000 [==============================] - 5s 110us/step - loss: 2.2174 - acc: 0.2657 - val_loss: 2.0711 - val_acc: 0.3150\n",
      "Epoch 2/50\n",
      "50000/50000 [==============================] - 4s 85us/step - loss: 1.7663 - acc: 0.3842 - val_loss: 1.8537 - val_acc: 0.3695\n",
      "Epoch 3/50\n",
      "50000/50000 [==============================] - 4s 88us/step - loss: 1.6391 - acc: 0.4259 - val_loss: 1.7029 - val_acc: 0.4061\n",
      "Epoch 4/50\n",
      "50000/50000 [==============================] - 4s 89us/step - loss: 1.5651 - acc: 0.4526 - val_loss: 1.6580 - val_acc: 0.4133\n",
      "Epoch 5/50\n",
      "50000/50000 [==============================] - 4s 84us/step - loss: 1.5120 - acc: 0.4711 - val_loss: 1.6090 - val_acc: 0.4337\n",
      "Epoch 6/50\n",
      "50000/50000 [==============================] - 4s 80us/step - loss: 1.4707 - acc: 0.4867 - val_loss: 1.5875 - val_acc: 0.4422\n",
      "Epoch 7/50\n",
      "50000/50000 [==============================] - 4s 82us/step - loss: 1.4320 - acc: 0.4989 - val_loss: 1.5643 - val_acc: 0.4442\n",
      "Epoch 8/50\n",
      "50000/50000 [==============================] - 4s 83us/step - loss: 1.3993 - acc: 0.5107 - val_loss: 1.5376 - val_acc: 0.4565\n",
      "Epoch 9/50\n",
      "50000/50000 [==============================] - 4s 83us/step - loss: 1.3722 - acc: 0.5206 - val_loss: 1.5343 - val_acc: 0.4536\n",
      "Epoch 10/50\n",
      "50000/50000 [==============================] - 4s 85us/step - loss: 1.3445 - acc: 0.5325 - val_loss: 1.5203 - val_acc: 0.4643\n",
      "Epoch 11/50\n",
      "50000/50000 [==============================] - 4s 84us/step - loss: 1.3187 - acc: 0.5402 - val_loss: 1.5040 - val_acc: 0.4646\n",
      "Epoch 12/50\n",
      "50000/50000 [==============================] - 4s 88us/step - loss: 1.2982 - acc: 0.5480 - val_loss: 1.5081 - val_acc: 0.4719\n",
      "Epoch 13/50\n",
      "50000/50000 [==============================] - 4s 85us/step - loss: 1.2755 - acc: 0.5575 - val_loss: 1.4869 - val_acc: 0.4742\n",
      "Epoch 14/50\n",
      "50000/50000 [==============================] - 4s 82us/step - loss: 1.2541 - acc: 0.5657 - val_loss: 1.4869 - val_acc: 0.4784\n",
      "Epoch 15/50\n",
      "50000/50000 [==============================] - 4s 79us/step - loss: 1.2347 - acc: 0.5737 - val_loss: 1.4718 - val_acc: 0.4861\n",
      "Epoch 16/50\n",
      "50000/50000 [==============================] - 4s 82us/step - loss: 1.2150 - acc: 0.5786 - val_loss: 1.4732 - val_acc: 0.4788\n",
      "Epoch 17/50\n",
      "50000/50000 [==============================] - 5s 94us/step - loss: 1.1935 - acc: 0.5867 - val_loss: 1.4692 - val_acc: 0.4846\n",
      "Epoch 18/50\n",
      "50000/50000 [==============================] - 4s 84us/step - loss: 1.1764 - acc: 0.5934 - val_loss: 1.4699 - val_acc: 0.4845\n",
      "Epoch 19/50\n",
      "50000/50000 [==============================] - 4s 80us/step - loss: 1.1581 - acc: 0.6002 - val_loss: 1.4585 - val_acc: 0.4918\n",
      "Epoch 20/50\n",
      "50000/50000 [==============================] - 5s 91us/step - loss: 1.1411 - acc: 0.6077 - val_loss: 1.4517 - val_acc: 0.4919\n",
      "Epoch 21/50\n",
      "50000/50000 [==============================] - 4s 82us/step - loss: 1.1220 - acc: 0.6131 - val_loss: 1.4567 - val_acc: 0.4902\n",
      "Epoch 22/50\n",
      "50000/50000 [==============================] - 4s 88us/step - loss: 1.1041 - acc: 0.6223 - val_loss: 1.4597 - val_acc: 0.4890\n",
      "Epoch 23/50\n",
      "50000/50000 [==============================] - 4s 84us/step - loss: 1.0891 - acc: 0.6255 - val_loss: 1.4666 - val_acc: 0.4857\n",
      "Epoch 24/50\n",
      "50000/50000 [==============================] - 4s 88us/step - loss: 1.0708 - acc: 0.6329 - val_loss: 1.4545 - val_acc: 0.4914\n",
      "Epoch 25/50\n",
      "50000/50000 [==============================] - 4s 85us/step - loss: 1.0546 - acc: 0.6389 - val_loss: 1.4606 - val_acc: 0.4915\n",
      "Epoch 26/50\n",
      "50000/50000 [==============================] - 4s 82us/step - loss: 1.0398 - acc: 0.6446 - val_loss: 1.4541 - val_acc: 0.4943\n",
      "Epoch 27/50\n",
      "50000/50000 [==============================] - 4s 77us/step - loss: 1.0245 - acc: 0.6515 - val_loss: 1.4525 - val_acc: 0.4925\n",
      "Epoch 28/50\n",
      "50000/50000 [==============================] - 4s 88us/step - loss: 1.0078 - acc: 0.6580 - val_loss: 1.4661 - val_acc: 0.4977\n",
      "Epoch 29/50\n",
      "50000/50000 [==============================] - 4s 84us/step - loss: 0.9908 - acc: 0.6652 - val_loss: 1.4571 - val_acc: 0.4940\n",
      "Epoch 30/50\n",
      "50000/50000 [==============================] - 4s 79us/step - loss: 0.9763 - acc: 0.6687 - val_loss: 1.4680 - val_acc: 0.4942\n",
      "Epoch 31/50\n",
      "50000/50000 [==============================] - 4s 79us/step - loss: 0.9606 - acc: 0.6768 - val_loss: 1.4623 - val_acc: 0.4993\n",
      "Epoch 32/50\n",
      "50000/50000 [==============================] - 4s 80us/step - loss: 0.9456 - acc: 0.6821 - val_loss: 1.4619 - val_acc: 0.4980\n",
      "Epoch 33/50\n",
      "50000/50000 [==============================] - 4s 87us/step - loss: 0.9294 - acc: 0.6871 - val_loss: 1.4873 - val_acc: 0.4974\n",
      "Epoch 34/50\n",
      "50000/50000 [==============================] - 5s 94us/step - loss: 0.9166 - acc: 0.6923 - val_loss: 1.4739 - val_acc: 0.4989\n",
      "Epoch 35/50\n",
      "50000/50000 [==============================] - 5s 94us/step - loss: 0.8988 - acc: 0.6994 - val_loss: 1.4809 - val_acc: 0.4959\n",
      "Epoch 36/50\n",
      "50000/50000 [==============================] - 5s 90us/step - loss: 0.8855 - acc: 0.7033 - val_loss: 1.4993 - val_acc: 0.4879\n",
      "Epoch 37/50\n",
      "50000/50000 [==============================] - 5s 96us/step - loss: 0.8694 - acc: 0.7114 - val_loss: 1.4838 - val_acc: 0.4985\n",
      "Epoch 38/50\n",
      "50000/50000 [==============================] - 5s 95us/step - loss: 0.8541 - acc: 0.7190 - val_loss: 1.4992 - val_acc: 0.4912\n",
      "Epoch 39/50\n",
      "50000/50000 [==============================] - 4s 90us/step - loss: 0.8416 - acc: 0.7227 - val_loss: 1.4964 - val_acc: 0.4968\n",
      "Epoch 40/50\n",
      "50000/50000 [==============================] - 4s 85us/step - loss: 0.8260 - acc: 0.7277 - val_loss: 1.5016 - val_acc: 0.4980\n",
      "Epoch 41/50\n",
      "50000/50000 [==============================] - 4s 87us/step - loss: 0.8119 - acc: 0.7336 - val_loss: 1.5015 - val_acc: 0.5006\n",
      "Epoch 42/50\n",
      "50000/50000 [==============================] - 4s 89us/step - loss: 0.7980 - acc: 0.7380 - val_loss: 1.5278 - val_acc: 0.4902\n",
      "Epoch 43/50\n",
      "50000/50000 [==============================] - 4s 87us/step - loss: 0.7831 - acc: 0.7437 - val_loss: 1.5191 - val_acc: 0.4960\n",
      "Epoch 44/50\n",
      "50000/50000 [==============================] - 4s 83us/step - loss: 0.7680 - acc: 0.7510 - val_loss: 1.5185 - val_acc: 0.4974\n",
      "Epoch 45/50\n",
      "50000/50000 [==============================] - 4s 85us/step - loss: 0.7548 - acc: 0.7540 - val_loss: 1.5414 - val_acc: 0.4888\n",
      "Epoch 46/50\n",
      "50000/50000 [==============================] - 4s 83us/step - loss: 0.7410 - acc: 0.7600 - val_loss: 1.5415 - val_acc: 0.4872\n",
      "Epoch 47/50\n",
      "50000/50000 [==============================] - 4s 81us/step - loss: 0.7252 - acc: 0.7678 - val_loss: 1.5390 - val_acc: 0.4951\n",
      "Epoch 48/50\n",
      "50000/50000 [==============================] - 5s 98us/step - loss: 0.7131 - acc: 0.7727 - val_loss: 1.5459 - val_acc: 0.4947\n",
      "Epoch 49/50\n",
      "50000/50000 [==============================] - 4s 87us/step - loss: 0.6982 - acc: 0.7769 - val_loss: 1.5657 - val_acc: 0.4914\n"
     ]
    },
    {
     "name": "stdout",
     "output_type": "stream",
     "text": [
      "Epoch 50/50\n",
      "50000/50000 [==============================] - 4s 83us/step - loss: 0.6852 - acc: 0.7820 - val_loss: 1.5891 - val_acc: 0.4912\n"
     ]
    }
   ],
   "source": [
    "model = build_mlp(input_shape=x_train.shape[1:])\n",
    "model.summary()\n",
    "optimizer = keras.optimizers.SGD(lr=LEARNING_RATE, nesterov=True, momentum=MOMENTUM)\n",
    "model.compile(loss=\"categorical_crossentropy\", metrics=[\"accuracy\"], optimizer=optimizer)\n",
    "\n",
    "\"\"\"Code Here\n",
    "將 callbacks 放入模型訓練流程中\n",
    "\"\"\"\n",
    "model.fit(x_train, y_train, \n",
    "          epochs=EPOCHS, \n",
    "          batch_size=BATCH_SIZE, \n",
    "          validation_data=(x_test, y_test), \n",
    "          shuffle=True,\n",
    "          callbacks=[rec_tptn]\n",
    "         )\n",
    "\n",
    "# Collect results\n",
    "train_loss = model.history.history[\"loss\"]\n",
    "valid_loss = model.history.history[\"val_loss\"]\n",
    "train_acc = model.history.history[\"acc\"]\n",
    "valid_acc = model.history.history[\"val_acc\"]\n",
    "\n",
    "\"\"\"Code Here\n",
    "將 tp/tn 從訓練完的模型中取出\n",
    "\"\"\"\n",
    "valid_tp = model.history.history[\"val_tp\"]\n",
    "valid_tn = model.history.history[\"val_tn\"]"
   ]
  },
  {
   "cell_type": "code",
   "execution_count": 25,
   "metadata": {
    "scrolled": true
   },
   "outputs": [
    {
     "data": {
      "image/png": "[encoded data removed]",
      "text/plain": [
       "<Figure size 432x288 with 1 Axes>"
      ]
     },
     "metadata": {
      "needs_background": "light"
     },
     "output_type": "display_data"
    },
    {
     "data": {
      "image/png": "[encoded data removed]",
      "text/plain": [
       "<Figure size 432x288 with 1 Axes>"
      ]
     },
     "metadata": {
      "needs_background": "light"
     },
     "output_type": "display_data"
    },
    {
     "data": {
      "image/png": "[encoded data removed]",
      "text/plain": [
       "<Figure size 432x288 with 1 Axes>"
      ]
     },
     "metadata": {
      "needs_background": "light"
     },
     "output_type": "display_data"
    }
   ],
   "source": [
    "import matplotlib.pyplot as plt\n",
    "%matplotlib inline\n",
    "\n",
    "plt.plot(range(len(train_loss)), train_loss, label=\"train loss\")\n",
    "plt.plot(range(len(valid_loss)), valid_loss, label=\"valid loss\")\n",
    "plt.legend()\n",
    "plt.title(\"Loss\")\n",
    "plt.show()\n",
    "\n",
    "plt.plot(range(len(train_acc)), train_acc, label=\"train accuracy\")\n",
    "plt.plot(range(len(valid_acc)), valid_acc, label=\"valid accuracy\")\n",
    "plt.legend()\n",
    "plt.title(\"Accuracy\")\n",
    "plt.show()\n",
    "\n",
    "plt.plot(range(len(valid_tp)), valid_tp, label=\"valid tp\", color=\"navy\")\n",
    "plt.plot(range(len(valid_tn)), valid_tn, label=\"valid tn\", color=\"red\")\n",
    "plt.legend()\n",
    "plt.title(\"True positives and True Negatives\")\n",
    "plt.show()\n"
   ]
  }
 ],
 "metadata": {
  "kernelspec": {
   "display_name": "Python 3.6 (tensorflow)",
   "language": "python",
   "name": "tensorflow"
  },
  "language_info": {
   "codemirror_mode": {
    "name": "ipython",
    "version": 3
   },
   "file_extension": ".py",
   "mimetype": "text/x-python",
   "name": "python",
   "nbconvert_exporter": "python",
   "pygments_lexer": "ipython3",
   "version": "3.6.8"
  }
 },
 "nbformat": 4,
 "nbformat_minor": 2
}
