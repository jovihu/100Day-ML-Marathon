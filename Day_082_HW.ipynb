{
 "cells": [
  {
   "cell_type": "markdown",
   "metadata": {},
   "source": [
    "## Work\n",
    "1. 請比較使用不同層數以及不同 Dropout rate 對訓練的效果\n",
    "2. 將 optimizer 改成使用 Adam 並加上適當的 dropout rate 檢視結果"
   ]
  },
  {
   "cell_type": "code",
   "execution_count": 1,
   "metadata": {},
   "outputs": [
    {
     "name": "stderr",
     "output_type": "stream",
     "text": [
      "Using TensorFlow backend.\n"
     ]
    }
   ],
   "source": [
    "import os\n",
    "import keras\n",
    "import itertools\n",
    "# Disable GPU\n",
    "os.environ[\"CUDA_VISIBLE_DEVICES\"] = \"\""
   ]
  },
  {
   "cell_type": "code",
   "execution_count": 2,
   "metadata": {},
   "outputs": [],
   "source": [
    "train, test = keras.datasets.cifar10.load_data()"
   ]
  },
  {
   "cell_type": "code",
   "execution_count": 3,
   "metadata": {},
   "outputs": [],
   "source": [
    "## 資料前處理\n",
    "def preproc_x(x, flatten=True):\n",
    "    x = x / 255.\n",
    "    if flatten:\n",
    "        x = x.reshape((len(x), -1))\n",
    "    return x\n",
    "\n",
    "def preproc_y(y, num_classes=10):\n",
    "    if y.shape[-1] == 1:\n",
    "        y = keras.utils.to_categorical(y, num_classes)\n",
    "    return y    "
   ]
  },
  {
   "cell_type": "code",
   "execution_count": 4,
   "metadata": {},
   "outputs": [],
   "source": [
    "x_train, y_train = train\n",
    "x_test, y_test = test\n",
    "\n",
    "# Preproc the inputs\n",
    "x_train = preproc_x(x_train)\n",
    "x_test = preproc_x(x_test)\n",
    "\n",
    "# Preprc the outputs\n",
    "y_train = preproc_y(y_train)\n",
    "y_test = preproc_y(y_test)"
   ]
  },
  {
   "cell_type": "code",
   "execution_count": 5,
   "metadata": {},
   "outputs": [],
   "source": [
    "from keras.layers import Dropout\n",
    "\n",
    "\"\"\"\n",
    "建立神經網路，並加入 dropout layer\n",
    "\"\"\"\n",
    "def build_mlp(input_shape, output_units=10, num_neurons=[512, 256, 128], drp_ratio=0.2):\n",
    "    input_layer = keras.layers.Input(input_shape)\n",
    "    \n",
    "    for i, n_units in enumerate(num_neurons):\n",
    "        if i == 0:\n",
    "            x = keras.layers.Dense(units=n_units, \n",
    "                                   activation=\"relu\", \n",
    "                                   name=\"hidden_layer\"+str(i+1))(input_layer)\n",
    "            x = Dropout(drp_ratio)(x)\n",
    "        else:\n",
    "            x = keras.layers.Dense(units=n_units, \n",
    "                                   activation=\"relu\", \n",
    "                                   name=\"hidden_layer\"+str(i+1))(x)\n",
    "            x = Dropout(drp_ratio)(x)\n",
    "    \n",
    "    out = keras.layers.Dense(units=output_units, activation=\"softmax\", name=\"output\")(x)\n",
    "    \n",
    "    model = keras.models.Model(inputs=[input_layer], outputs=[out])\n",
    "    return model"
   ]
  },
  {
   "cell_type": "code",
   "execution_count": 6,
   "metadata": {},
   "outputs": [],
   "source": [
    "## 超參數設定\n",
    "LEARNING_RATE = 1e-3\n",
    "EPOCHS = 50\n",
    "BATCH_SIZE = 256\n",
    "MOMENTUM = 0.95\n",
    "Dropout_EXP = 0.30"
   ]
  },
  {
   "cell_type": "code",
   "execution_count": 9,
   "metadata": {
    "scrolled": true
   },
   "outputs": [
    {
     "name": "stdout",
     "output_type": "stream",
     "text": [
      "_________________________________________________________________\n",
      "Layer (type)                 Output Shape              Param #   \n",
      "=================================================================\n",
      "input_3 (InputLayer)         (None, 3072)              0         \n",
      "_________________________________________________________________\n",
      "hidden_layer1 (Dense)        (None, 512)               1573376   \n",
      "_________________________________________________________________\n",
      "dropout_7 (Dropout)          (None, 512)               0         \n",
      "_________________________________________________________________\n",
      "hidden_layer2 (Dense)        (None, 256)               131328    \n",
      "_________________________________________________________________\n",
      "dropout_8 (Dropout)          (None, 256)               0         \n",
      "_________________________________________________________________\n",
      "hidden_layer3 (Dense)        (None, 128)               32896     \n",
      "_________________________________________________________________\n",
      "dropout_9 (Dropout)          (None, 128)               0         \n",
      "_________________________________________________________________\n",
      "output (Dense)               (None, 10)                1290      \n",
      "=================================================================\n",
      "Total params: 1,738,890\n",
      "Trainable params: 1,738,890\n",
      "Non-trainable params: 0\n",
      "_________________________________________________________________\n",
      "Train on 50000 samples, validate on 10000 samples\n",
      "Epoch 1/50\n",
      "50000/50000 [==============================] - 12s 239us/step - loss: 2.0878 - acc: 0.2232 - val_loss: 1.8690 - val_acc: 0.3340\n",
      "Epoch 2/50\n",
      "50000/50000 [==============================] - 9s 185us/step - loss: 1.9328 - acc: 0.2892 - val_loss: 1.8179 - val_acc: 0.3440\n",
      "Epoch 3/50\n",
      "50000/50000 [==============================] - 12s 249us/step - loss: 1.8852 - acc: 0.3102 - val_loss: 1.7859 - val_acc: 0.3590\n",
      "Epoch 4/50\n",
      "50000/50000 [==============================] - 15s 303us/step - loss: 1.8497 - acc: 0.3221 - val_loss: 1.7642 - val_acc: 0.3796\n",
      "Epoch 5/50\n",
      "50000/50000 [==============================] - 11s 222us/step - loss: 1.8227 - acc: 0.3360 - val_loss: 1.7670 - val_acc: 0.3730\n",
      "Epoch 6/50\n",
      "50000/50000 [==============================] - 10s 203us/step - loss: 1.7992 - acc: 0.3414 - val_loss: 1.7077 - val_acc: 0.3946\n",
      "Epoch 7/50\n",
      "50000/50000 [==============================] - 9s 185us/step - loss: 1.7901 - acc: 0.3444 - val_loss: 1.6956 - val_acc: 0.4053\n",
      "Epoch 8/50\n",
      "50000/50000 [==============================] - 9s 184us/step - loss: 1.7729 - acc: 0.3514 - val_loss: 1.7074 - val_acc: 0.3966\n",
      "Epoch 9/50\n",
      "50000/50000 [==============================] - 9s 189us/step - loss: 1.7608 - acc: 0.3591 - val_loss: 1.6976 - val_acc: 0.4003\n",
      "Epoch 10/50\n",
      "50000/50000 [==============================] - 11s 224us/step - loss: 1.7489 - acc: 0.3633 - val_loss: 1.6921 - val_acc: 0.4017\n",
      "Epoch 11/50\n",
      "50000/50000 [==============================] - 10s 197us/step - loss: 1.7447 - acc: 0.3660 - val_loss: 1.6777 - val_acc: 0.4065\n",
      "Epoch 12/50\n",
      "50000/50000 [==============================] - 12s 246us/step - loss: 1.7323 - acc: 0.3702 - val_loss: 1.6745 - val_acc: 0.4108\n",
      "Epoch 13/50\n",
      "50000/50000 [==============================] - 11s 223us/step - loss: 1.7282 - acc: 0.3727 - val_loss: 1.6688 - val_acc: 0.4197\n",
      "Epoch 14/50\n",
      "50000/50000 [==============================] - 10s 207us/step - loss: 1.7211 - acc: 0.3746 - val_loss: 1.6541 - val_acc: 0.4200\n",
      "Epoch 15/50\n",
      "50000/50000 [==============================] - 10s 197us/step - loss: 1.7101 - acc: 0.3782 - val_loss: 1.6266 - val_acc: 0.4268\n",
      "Epoch 16/50\n",
      "50000/50000 [==============================] - 10s 206us/step - loss: 1.6988 - acc: 0.3828 - val_loss: 1.6215 - val_acc: 0.4269\n",
      "Epoch 17/50\n",
      "50000/50000 [==============================] - 10s 190us/step - loss: 1.6996 - acc: 0.3825 - val_loss: 1.6173 - val_acc: 0.4387\n",
      "Epoch 18/50\n",
      "50000/50000 [==============================] - 9s 172us/step - loss: 1.6943 - acc: 0.3880 - val_loss: 1.6214 - val_acc: 0.4294\n",
      "Epoch 19/50\n",
      "50000/50000 [==============================] - 9s 184us/step - loss: 1.6849 - acc: 0.3881 - val_loss: 1.6158 - val_acc: 0.4348\n",
      "Epoch 20/50\n",
      "50000/50000 [==============================] - 9s 180us/step - loss: 1.6824 - acc: 0.3875 - val_loss: 1.6127 - val_acc: 0.4360\n",
      "Epoch 21/50\n",
      "50000/50000 [==============================] - 9s 183us/step - loss: 1.6801 - acc: 0.3910 - val_loss: 1.6429 - val_acc: 0.4240\n",
      "Epoch 22/50\n",
      "50000/50000 [==============================] - 9s 185us/step - loss: 1.6756 - acc: 0.3915 - val_loss: 1.6101 - val_acc: 0.4362\n",
      "Epoch 23/50\n",
      "50000/50000 [==============================] - 9s 179us/step - loss: 1.6757 - acc: 0.3959 - val_loss: 1.5961 - val_acc: 0.4331\n",
      "Epoch 24/50\n",
      "50000/50000 [==============================] - 10s 195us/step - loss: 1.6649 - acc: 0.3967 - val_loss: 1.5868 - val_acc: 0.4365\n",
      "Epoch 25/50\n",
      "50000/50000 [==============================] - 10s 200us/step - loss: 1.6624 - acc: 0.3994 - val_loss: 1.6157 - val_acc: 0.4372\n",
      "Epoch 26/50\n",
      "50000/50000 [==============================] - 9s 182us/step - loss: 1.6645 - acc: 0.4003 - val_loss: 1.6167 - val_acc: 0.4383\n",
      "Epoch 27/50\n",
      "50000/50000 [==============================] - 9s 184us/step - loss: 1.6546 - acc: 0.4004 - val_loss: 1.5775 - val_acc: 0.4556\n",
      "Epoch 28/50\n",
      "50000/50000 [==============================] - 9s 178us/step - loss: 1.6482 - acc: 0.4045 - val_loss: 1.5765 - val_acc: 0.4493\n",
      "Epoch 29/50\n",
      "50000/50000 [==============================] - 11s 215us/step - loss: 1.6522 - acc: 0.4030 - val_loss: 1.5665 - val_acc: 0.4530\n",
      "Epoch 30/50\n",
      "50000/50000 [==============================] - 9s 183us/step - loss: 1.6420 - acc: 0.4047 - val_loss: 1.5835 - val_acc: 0.4449\n",
      "Epoch 31/50\n",
      "50000/50000 [==============================] - 9s 183us/step - loss: 1.6395 - acc: 0.4063 - val_loss: 1.5759 - val_acc: 0.4452\n",
      "Epoch 32/50\n",
      "50000/50000 [==============================] - 9s 181us/step - loss: 1.6342 - acc: 0.4105 - val_loss: 1.5557 - val_acc: 0.4489\n",
      "Epoch 33/50\n",
      "50000/50000 [==============================] - 9s 176us/step - loss: 1.6279 - acc: 0.4142 - val_loss: 1.5806 - val_acc: 0.4474\n",
      "Epoch 34/50\n",
      "50000/50000 [==============================] - 9s 182us/step - loss: 1.6330 - acc: 0.4105 - val_loss: 1.5849 - val_acc: 0.4479\n",
      "Epoch 35/50\n",
      "50000/50000 [==============================] - 10s 196us/step - loss: 1.6234 - acc: 0.4147 - val_loss: 1.5815 - val_acc: 0.4501\n",
      "Epoch 36/50\n",
      "50000/50000 [==============================] - 10s 199us/step - loss: 1.6326 - acc: 0.4131 - val_loss: 1.5635 - val_acc: 0.4494\n",
      "Epoch 37/50\n",
      "50000/50000 [==============================] - 10s 199us/step - loss: 1.6187 - acc: 0.4157 - val_loss: 1.5775 - val_acc: 0.4417\n",
      "Epoch 38/50\n",
      "50000/50000 [==============================] - 10s 200us/step - loss: 1.6190 - acc: 0.4171 - val_loss: 1.5452 - val_acc: 0.4571\n",
      "Epoch 39/50\n",
      "50000/50000 [==============================] - 9s 185us/step - loss: 1.6171 - acc: 0.4146 - val_loss: 1.5578 - val_acc: 0.4540\n",
      "Epoch 40/50\n",
      "50000/50000 [==============================] - 9s 186us/step - loss: 1.6164 - acc: 0.4171 - val_loss: 1.5858 - val_acc: 0.4455\n",
      "Epoch 41/50\n",
      "50000/50000 [==============================] - 9s 180us/step - loss: 1.6117 - acc: 0.4215 - val_loss: 1.5383 - val_acc: 0.4593\n",
      "Epoch 42/50\n",
      "50000/50000 [==============================] - 8s 168us/step - loss: 1.6095 - acc: 0.4222 - val_loss: 1.5644 - val_acc: 0.4470\n",
      "Epoch 43/50\n",
      "50000/50000 [==============================] - 9s 185us/step - loss: 1.6092 - acc: 0.4201 - val_loss: 1.5607 - val_acc: 0.4589\n",
      "Epoch 44/50\n",
      "50000/50000 [==============================] - 9s 184us/step - loss: 1.6085 - acc: 0.4210 - val_loss: 1.5492 - val_acc: 0.4584\n",
      "Epoch 45/50\n",
      "50000/50000 [==============================] - 9s 185us/step - loss: 1.6004 - acc: 0.4211 - val_loss: 1.5492 - val_acc: 0.4542\n",
      "Epoch 46/50\n",
      "50000/50000 [==============================] - 9s 175us/step - loss: 1.5944 - acc: 0.4259 - val_loss: 1.5494 - val_acc: 0.4624\n",
      "Epoch 47/50\n",
      "50000/50000 [==============================] - 9s 189us/step - loss: 1.5962 - acc: 0.4239 - val_loss: 1.5259 - val_acc: 0.4647\n",
      "Epoch 48/50\n",
      "50000/50000 [==============================] - 11s 210us/step - loss: 1.5942 - acc: 0.4260 - val_loss: 1.5378 - val_acc: 0.4666\n",
      "Epoch 49/50\n"
     ]
    },
    {
     "name": "stdout",
     "output_type": "stream",
     "text": [
      "50000/50000 [==============================] - 9s 181us/step - loss: 1.5874 - acc: 0.4281 - val_loss: 1.5213 - val_acc: 0.4612\n",
      "Epoch 50/50\n",
      "50000/50000 [==============================] - 9s 178us/step - loss: 1.5945 - acc: 0.4272 - val_loss: 1.5304 - val_acc: 0.4673\n"
     ]
    }
   ],
   "source": [
    "results = {}\n",
    "\n",
    "model = build_mlp(input_shape=x_train.shape[1:], drp_ratio=Dropout_EXP)\n",
    "model.summary()\n",
    "optimizer = keras.optimizers.Adam(lr=0.001, beta_1=0.9, beta_2=0.999, epsilon=None, decay=0.0, amsgrad=False)\n",
    "model.compile(loss=\"categorical_crossentropy\", metrics=[\"accuracy\"], optimizer=optimizer)\n",
    "\n",
    "model.fit(x_train, y_train, \n",
    "          epochs=EPOCHS, \n",
    "          batch_size=BATCH_SIZE, \n",
    "          validation_data=(x_test, y_test), \n",
    "          shuffle=True)\n",
    "\n",
    "# Collect results\n",
    "train_loss = model.history.history[\"loss\"]\n",
    "valid_loss = model.history.history[\"val_loss\"]\n",
    "train_acc = model.history.history[\"acc\"]\n",
    "valid_acc = model.history.history[\"val_acc\"]"
   ]
  },
  {
   "cell_type": "code",
   "execution_count": 10,
   "metadata": {},
   "outputs": [
    {
     "data": {
      "image/png": "[encoded data removed]",
      "text/plain": [
       "<Figure size 432x288 with 1 Axes>"
      ]
     },
     "metadata": {
      "needs_background": "light"
     },
     "output_type": "display_data"
    },
    {
     "data": {
      "image/png": "[encoded data removed]",
      "text/plain": [
       "<Figure size 432x288 with 1 Axes>"
      ]
     },
     "metadata": {
      "needs_background": "light"
     },
     "output_type": "display_data"
    }
   ],
   "source": [
    "import matplotlib.pyplot as plt\n",
    "%matplotlib inline\n",
    "\n",
    "plt.plot(range(len(train_loss)), train_loss, label=\"train loss\")\n",
    "plt.plot(range(len(valid_loss)), valid_loss, label=\"valid loss\")\n",
    "plt.legend()\n",
    "plt.title(\"Loss\")\n",
    "plt.show()\n",
    "\n",
    "plt.plot(range(len(train_acc)), train_acc, label=\"train accuracy\")\n",
    "plt.plot(range(len(valid_acc)), valid_acc, label=\"valid accuracy\")\n",
    "plt.legend()\n",
    "plt.title(\"Accuracy\")\n",
    "plt.show()"
   ]
  },
  {
   "cell_type": "code",
   "execution_count": null,
   "metadata": {},
   "outputs": [],
   "source": []
  }
 ],
 "metadata": {
  "kernelspec": {
   "display_name": "Python 3.6 (tensorflow)",
   "language": "python",
   "name": "tensorflow"
  },
  "language_info": {
   "codemirror_mode": {
    "name": "ipython",
    "version": 3
   },
   "file_extension": ".py",
   "mimetype": "text/x-python",
   "name": "python",
   "nbconvert_exporter": "python",
   "pygments_lexer": "ipython3",
   "version": "3.6.8"
  }
 },
 "nbformat": 4,
 "nbformat_minor": 2
}
