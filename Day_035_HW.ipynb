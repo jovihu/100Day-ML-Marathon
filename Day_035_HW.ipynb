{
 "cells": [
  {
   "cell_type": "markdown",
   "metadata": {},
   "source": [
    "## 練習時間\n",
    "相信大家對回歸問題及分類問題都有初步的了解。今天的作業希望大家搜尋有關 multi-label 的案例問題。下圖是電影 \"奇異博士\" 的分類。可以看到同時有 \"Action\", \"Adventure\", \"Fantasy\" 的類別存在，代表這是個多標籤的問題。 "
   ]
  },
  {
   "cell_type": "markdown",
   "metadata": {},
   "source": [
    "![image](https://cdn-images-1.medium.com/max/1000/1*r0gYXMSQf5VhdMyl2bRDyg.png)"
   ]
  },
  {
   "cell_type": "markdown",
   "metadata": {},
   "source": [
    "## 請搜尋目標為多標籤問題 (Multi-label) 的機器學習案例，了解其資料來源、目標以及評估指標為何\n",
    "## Hint: 服飾"
   ]
  },
  {
   "cell_type": "markdown",
   "metadata": {},
   "source": [
    "## ANS1.選用動物園的分類案例 https://www.kaggle.com/agajorte/zoo-animals-extended-dataset\n",
    "## ANS2.資料來源為 São Paulo Zoo所飼養的:\n",
    "### 1.70之濱臨絕種的動物\n",
    "### 2.哺乳動物和鳥類外，其他幾類的43種動物\n",
    "## ANS3.目標對動物進行分類\n",
    "## ANS4.評估指數為\n",
    "#### 1.動物名動物ID（每個實例唯一）\n",
    "#### 2.頭髮\n",
    "#### 3.羽毛\n",
    "#### 4.蛋\n",
    "#### 5.牛奶\n",
    "#### 6.空降\n",
    "#### 7.水\n",
    "#### 8.捕食者\n",
    "#### 9.齒狀\n",
    "#### 10.骨幹\n",
    "#### 11.呼吸\n",
    "#### 12.有毒\n",
    "#### 13.鰭片\n",
    "#### 14.腿支腳數\n",
    "#### 15.尾巴\n",
    "#### 16.國內\n",
    "#### 17.體型\n",
    "#### 18.class_type它所屬的類（1到7之間的整數）"
   ]
  },
  {
   "cell_type": "code",
   "execution_count": null,
   "metadata": {},
   "outputs": [],
   "source": []
  }
 ],
 "metadata": {
  "kernelspec": {
   "display_name": "Python 3",
   "language": "python",
   "name": "python3"
  },
  "language_info": {
   "codemirror_mode": {
    "name": "ipython",
    "version": 3
   },
   "file_extension": ".py",
   "mimetype": "text/x-python",
   "name": "python",
   "nbconvert_exporter": "python",
   "pygments_lexer": "ipython3",
   "version": "3.7.3"
  }
 },
 "nbformat": 4,
 "nbformat_minor": 2
}
