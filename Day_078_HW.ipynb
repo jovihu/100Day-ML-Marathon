{
 "cells": [
  {
   "cell_type": "markdown",
   "metadata": {},
   "source": [
    "## Work\n",
    "1. 請嘗試將 preproc_x 替換成以每筆資料的 min/max 進行標準化至 -1 ~ 1 間，再進行訓練\n",
    "2. 請嘗試將 mlp 疊更深 (e.g 5~10 層)，進行訓練後觀察 learning curve 的走勢\n",
    "3. (optional) 請改用 GPU 進行訓練 (如果你有 GPU 的話)，比較使用 CPU 與 GPU 的訓練速度"
   ]
  },
  {
   "cell_type": "code",
   "execution_count": 1,
   "metadata": {},
   "outputs": [
    {
     "name": "stdout",
     "output_type": "stream",
     "text": [
      "/bin/sh: nvidia-smi: command not found\r\n"
     ]
    }
   ],
   "source": [
    "## \n",
    "\"\"\"\n",
    "Your code here (optional)\n",
    "確認硬體資源\n",
    "\"\"\"\n",
    "!nvidia-smi"
   ]
  },
  {
   "cell_type": "code",
   "execution_count": 2,
   "metadata": {},
   "outputs": [
    {
     "name": "stderr",
     "output_type": "stream",
     "text": [
      "Using TensorFlow backend.\n"
     ]
    }
   ],
   "source": [
    "import os\n",
    "import keras\n",
    "\n",
    "# 請嘗試設定 GPU：os.environ\n"
   ]
  },
  {
   "cell_type": "code",
   "execution_count": 3,
   "metadata": {},
   "outputs": [],
   "source": [
    "train, test = keras.datasets.cifar10.load_data()"
   ]
  },
  {
   "cell_type": "code",
   "execution_count": 4,
   "metadata": {},
   "outputs": [],
   "source": [
    "## 資料前處理\n",
    "\"\"\"\n",
    "Your code here\n",
    "\"\"\"\n",
    "## 資料前處理\n",
    "def preproc_x(x, flatten=True):\n",
    "    x = 2*(((x - x.min()) / (x.max() - x.min()))-0.5)\n",
    "    if flatten:\n",
    "        x = x.reshape((len(x), -1))\n",
    "    return x\n",
    "\n",
    "def preproc_y(y, num_classes=10):\n",
    "    if y.shape[-1] == 1:\n",
    "        y = keras.utils.to_categorical(y, num_classes)\n",
    "    return y"
   ]
  },
  {
   "cell_type": "code",
   "execution_count": 5,
   "metadata": {},
   "outputs": [],
   "source": [
    "x_train, y_train = train\n",
    "x_test, y_test = test\n",
    "\n",
    "# Preproc the inputs\n",
    "x_train = preproc_x(x_train)\n",
    "x_test = preproc_x(x_test)\n",
    "\n",
    "# Preprc the outputs\n",
    "y_train = preproc_y(y_train)\n",
    "y_test = preproc_y(y_test)"
   ]
  },
  {
   "cell_type": "code",
   "execution_count": 6,
   "metadata": {},
   "outputs": [
    {
     "name": "stdout",
     "output_type": "stream",
     "text": [
      "_________________________________________________________________\n",
      "Layer (type)                 Output Shape              Param #   \n",
      "=================================================================\n",
      "input_1 (InputLayer)         (None, 3072)              0         \n",
      "_________________________________________________________________\n",
      "hidden_layer1 (Dense)        (None, 512)               1573376   \n",
      "_________________________________________________________________\n",
      "hidden_layer2 (Dense)        (None, 256)               131328    \n",
      "_________________________________________________________________\n",
      "hidden_layer3 (Dense)        (None, 128)               32896     \n",
      "_________________________________________________________________\n",
      "hidden_layer4 (Dense)        (None, 128)               16512     \n",
      "_________________________________________________________________\n",
      "hidden_layer5 (Dense)        (None, 128)               16512     \n",
      "_________________________________________________________________\n",
      "hidden_layer6 (Dense)        (None, 64)                8256      \n",
      "_________________________________________________________________\n",
      "output (Dense)               (None, 10)                650       \n",
      "=================================================================\n",
      "Total params: 1,779,530\n",
      "Trainable params: 1,779,530\n",
      "Non-trainable params: 0\n",
      "_________________________________________________________________\n"
     ]
    }
   ],
   "source": [
    "\"\"\"Code Here\n",
    "建立你的神經網路\n",
    "\"\"\"\n",
    "def build_mlp(input_shape, output_units=10, num_neurons=[512, 256, 128, 128, 128, 64]):\n",
    "    input_layer = keras.layers.Input(input_shape)\n",
    "    \n",
    "    for i, n_units in enumerate(num_neurons):\n",
    "        if i == 0:\n",
    "            x = keras.layers.Dense(units=n_units, activation=\"relu\", name=\"hidden_layer\"+str(i+1))(input_layer)\n",
    "        else:\n",
    "            x = keras.layers.Dense(units=n_units, activation=\"relu\", name=\"hidden_layer\"+str(i+1))(x)\n",
    "    \n",
    "    out = keras.layers.Dense(units=output_units, activation=\"softmax\", name=\"output\")(x)\n",
    "    \n",
    "    model = keras.models.Model(inputs=[input_layer], outputs=[out])\n",
    "    return model\n",
    "\n",
    "\n",
    "model = build_mlp(input_shape=x_train.shape[1:])\n",
    "model.summary()"
   ]
  },
  {
   "cell_type": "code",
   "execution_count": 7,
   "metadata": {},
   "outputs": [],
   "source": [
    "## 超參數設定\n",
    "LEARNING_RATE = 0.001\n",
    "EPOCHS = 100\n",
    "BATCH_SIZE = 256"
   ]
  },
  {
   "cell_type": "code",
   "execution_count": 8,
   "metadata": {},
   "outputs": [],
   "source": [
    "optimizer = keras.optimizers.Adam(lr=LEARNING_RATE)\n",
    "model.compile(loss=\"categorical_crossentropy\", metrics=[\"accuracy\"], optimizer=optimizer)"
   ]
  },
  {
   "cell_type": "code",
   "execution_count": 9,
   "metadata": {},
   "outputs": [
    {
     "name": "stdout",
     "output_type": "stream",
     "text": [
      "Train on 50000 samples, validate on 10000 samples\n",
      "Epoch 1/100\n",
      "50000/50000 [==============================] - 9s 187us/step - loss: 1.7067 - acc: 0.3920 - val_loss: 1.5285 - val_acc: 0.4510\n",
      "Epoch 2/100\n",
      "50000/50000 [==============================] - 9s 183us/step - loss: 1.4832 - acc: 0.4760 - val_loss: 1.4403 - val_acc: 0.4913\n",
      "Epoch 3/100\n",
      "50000/50000 [==============================] - 9s 172us/step - loss: 1.3625 - acc: 0.5180 - val_loss: 1.4284 - val_acc: 0.5030\n",
      "Epoch 4/100\n",
      "50000/50000 [==============================] - 8s 167us/step - loss: 1.2703 - acc: 0.5539 - val_loss: 1.3785 - val_acc: 0.5266\n",
      "Epoch 5/100\n",
      "50000/50000 [==============================] - 9s 173us/step - loss: 1.1869 - acc: 0.5805 - val_loss: 1.3695 - val_acc: 0.5250\n",
      "Epoch 6/100\n",
      "50000/50000 [==============================] - 9s 173us/step - loss: 1.1066 - acc: 0.6075 - val_loss: 1.3619 - val_acc: 0.5328\n",
      "Epoch 7/100\n",
      "50000/50000 [==============================] - 8s 169us/step - loss: 1.0334 - acc: 0.6335 - val_loss: 1.3853 - val_acc: 0.5325\n",
      "Epoch 8/100\n",
      "50000/50000 [==============================] - 9s 185us/step - loss: 0.9742 - acc: 0.6541 - val_loss: 1.4164 - val_acc: 0.5330\n",
      "Epoch 9/100\n",
      "50000/50000 [==============================] - 9s 186us/step - loss: 0.8954 - acc: 0.6825 - val_loss: 1.4242 - val_acc: 0.5384\n",
      "Epoch 10/100\n",
      "50000/50000 [==============================] - 9s 189us/step - loss: 0.8419 - acc: 0.7016 - val_loss: 1.4872 - val_acc: 0.5304\n",
      "Epoch 11/100\n",
      "50000/50000 [==============================] - 9s 178us/step - loss: 0.7729 - acc: 0.7261 - val_loss: 1.4661 - val_acc: 0.5381\n",
      "Epoch 12/100\n",
      "50000/50000 [==============================] - 9s 188us/step - loss: 0.7165 - acc: 0.7450 - val_loss: 1.5392 - val_acc: 0.5348\n",
      "Epoch 13/100\n",
      "50000/50000 [==============================] - 9s 179us/step - loss: 0.6647 - acc: 0.7631 - val_loss: 1.5251 - val_acc: 0.5365\n",
      "Epoch 14/100\n",
      "50000/50000 [==============================] - 8s 167us/step - loss: 0.6084 - acc: 0.7853 - val_loss: 1.6406 - val_acc: 0.5430\n",
      "Epoch 15/100\n",
      "50000/50000 [==============================] - 8s 166us/step - loss: 0.5609 - acc: 0.8022 - val_loss: 1.6868 - val_acc: 0.5411\n",
      "Epoch 16/100\n",
      "50000/50000 [==============================] - 9s 172us/step - loss: 0.5211 - acc: 0.8138 - val_loss: 1.7726 - val_acc: 0.5339\n",
      "Epoch 17/100\n",
      "50000/50000 [==============================] - 9s 174us/step - loss: 0.4744 - acc: 0.8332 - val_loss: 1.8294 - val_acc: 0.5376\n",
      "Epoch 18/100\n",
      "50000/50000 [==============================] - 9s 181us/step - loss: 0.4343 - acc: 0.8462 - val_loss: 2.0403 - val_acc: 0.5297\n",
      "Epoch 19/100\n",
      "50000/50000 [==============================] - 9s 186us/step - loss: 0.4062 - acc: 0.8567 - val_loss: 2.0672 - val_acc: 0.5332\n",
      "Epoch 20/100\n",
      "50000/50000 [==============================] - 9s 172us/step - loss: 0.3777 - acc: 0.8649 - val_loss: 2.0850 - val_acc: 0.5360\n",
      "Epoch 21/100\n",
      "50000/50000 [==============================] - 9s 172us/step - loss: 0.3618 - acc: 0.8716 - val_loss: 2.2734 - val_acc: 0.5284\n",
      "Epoch 22/100\n",
      "50000/50000 [==============================] - 9s 173us/step - loss: 0.3310 - acc: 0.8850 - val_loss: 2.3160 - val_acc: 0.5280\n",
      "Epoch 23/100\n",
      "50000/50000 [==============================] - 9s 173us/step - loss: 0.3052 - acc: 0.8936 - val_loss: 2.2970 - val_acc: 0.5255\n",
      "Epoch 24/100\n",
      "50000/50000 [==============================] - 8s 169us/step - loss: 0.2972 - acc: 0.8981 - val_loss: 2.3569 - val_acc: 0.5360\n",
      "Epoch 25/100\n",
      "50000/50000 [==============================] - 9s 170us/step - loss: 0.2730 - acc: 0.9040 - val_loss: 2.3760 - val_acc: 0.5339\n",
      "Epoch 26/100\n",
      "50000/50000 [==============================] - 9s 173us/step - loss: 0.2599 - acc: 0.9082 - val_loss: 2.6248 - val_acc: 0.5353\n",
      "Epoch 27/100\n",
      "50000/50000 [==============================] - 10s 191us/step - loss: 0.2469 - acc: 0.9145 - val_loss: 2.5520 - val_acc: 0.5272\n",
      "Epoch 28/100\n",
      "50000/50000 [==============================] - 10s 193us/step - loss: 0.2462 - acc: 0.9144 - val_loss: 2.6309 - val_acc: 0.5315\n",
      "Epoch 29/100\n",
      "50000/50000 [==============================] - 11s 218us/step - loss: 0.2268 - acc: 0.9221 - val_loss: 2.6741 - val_acc: 0.5312\n",
      "Epoch 30/100\n",
      "50000/50000 [==============================] - 9s 184us/step - loss: 0.2097 - acc: 0.9271 - val_loss: 2.7662 - val_acc: 0.5275\n",
      "Epoch 31/100\n",
      "50000/50000 [==============================] - 10s 191us/step - loss: 0.2042 - acc: 0.9294 - val_loss: 2.8810 - val_acc: 0.5246\n",
      "Epoch 32/100\n",
      "50000/50000 [==============================] - 10s 200us/step - loss: 0.2005 - acc: 0.9308 - val_loss: 2.7761 - val_acc: 0.5234\n",
      "Epoch 33/100\n",
      "50000/50000 [==============================] - 12s 231us/step - loss: 0.2043 - acc: 0.9311 - val_loss: 2.8652 - val_acc: 0.5259\n",
      "Epoch 34/100\n",
      "50000/50000 [==============================] - 12s 237us/step - loss: 0.1875 - acc: 0.9362 - val_loss: 2.8541 - val_acc: 0.5328\n",
      "Epoch 35/100\n",
      "50000/50000 [==============================] - 12s 245us/step - loss: 0.1796 - acc: 0.9386 - val_loss: 2.8704 - val_acc: 0.5303\n",
      "Epoch 36/100\n",
      "50000/50000 [==============================] - 10s 207us/step - loss: 0.1682 - acc: 0.9415 - val_loss: 3.1461 - val_acc: 0.5269\n",
      "Epoch 37/100\n",
      "50000/50000 [==============================] - 9s 183us/step - loss: 0.1745 - acc: 0.9405 - val_loss: 2.9684 - val_acc: 0.5258\n",
      "Epoch 38/100\n",
      "50000/50000 [==============================] - 9s 189us/step - loss: 0.1522 - acc: 0.9472 - val_loss: 3.1450 - val_acc: 0.5205\n",
      "Epoch 39/100\n",
      "50000/50000 [==============================] - 9s 190us/step - loss: 0.1578 - acc: 0.9459 - val_loss: 3.1242 - val_acc: 0.5231\n",
      "Epoch 40/100\n",
      "50000/50000 [==============================] - 10s 193us/step - loss: 0.1589 - acc: 0.9452 - val_loss: 3.1580 - val_acc: 0.5281\n",
      "Epoch 41/100\n",
      "50000/50000 [==============================] - 12s 233us/step - loss: 0.1591 - acc: 0.9460 - val_loss: 3.0505 - val_acc: 0.5255\n",
      "Epoch 42/100\n",
      "50000/50000 [==============================] - 12s 233us/step - loss: 0.1500 - acc: 0.9482 - val_loss: 3.1160 - val_acc: 0.5242\n",
      "Epoch 43/100\n",
      "50000/50000 [==============================] - 11s 213us/step - loss: 0.1296 - acc: 0.9552 - val_loss: 3.1770 - val_acc: 0.5226\n",
      "Epoch 44/100\n",
      "50000/50000 [==============================] - 10s 196us/step - loss: 0.1378 - acc: 0.9537 - val_loss: 3.1860 - val_acc: 0.5323\n",
      "Epoch 45/100\n",
      "50000/50000 [==============================] - 11s 213us/step - loss: 0.1436 - acc: 0.9506 - val_loss: 3.2766 - val_acc: 0.5218\n",
      "Epoch 46/100\n",
      "50000/50000 [==============================] - 12s 246us/step - loss: 0.1273 - acc: 0.9556 - val_loss: 3.1917 - val_acc: 0.5348\n",
      "Epoch 47/100\n",
      "50000/50000 [==============================] - 13s 268us/step - loss: 0.1324 - acc: 0.9565 - val_loss: 3.1710 - val_acc: 0.5241\n",
      "Epoch 48/100\n",
      "50000/50000 [==============================] - 16s 313us/step - loss: 0.1401 - acc: 0.9529 - val_loss: 3.1649 - val_acc: 0.5301\n",
      "Epoch 49/100\n",
      "50000/50000 [==============================] - 18s 368us/step - loss: 0.1097 - acc: 0.9627 - val_loss: 3.3205 - val_acc: 0.5376\n",
      "Epoch 50/100\n",
      "50000/50000 [==============================] - 18s 359us/step - loss: 0.1299 - acc: 0.9567 - val_loss: 3.2129 - val_acc: 0.5270\n",
      "Epoch 51/100\n",
      "50000/50000 [==============================] - 19s 387us/step - loss: 0.1114 - acc: 0.9630 - val_loss: 3.2877 - val_acc: 0.5333\n",
      "Epoch 52/100\n",
      "50000/50000 [==============================] - 20s 391us/step - loss: 0.1274 - acc: 0.9574 - val_loss: 3.1870 - val_acc: 0.5299\n",
      "Epoch 53/100\n",
      "50000/50000 [==============================] - 18s 365us/step - loss: 0.1164 - acc: 0.9602 - val_loss: 3.4323 - val_acc: 0.5333\n",
      "Epoch 54/100\n",
      "50000/50000 [==============================] - 14s 285us/step - loss: 0.1110 - acc: 0.9635 - val_loss: 3.3670 - val_acc: 0.5259\n",
      "Epoch 55/100\n",
      "50000/50000 [==============================] - 14s 282us/step - loss: 0.1136 - acc: 0.9622 - val_loss: 3.5053 - val_acc: 0.5337\n",
      "Epoch 56/100\n",
      "50000/50000 [==============================] - 12s 239us/step - loss: 0.1025 - acc: 0.9656 - val_loss: 3.4320 - val_acc: 0.5301\n",
      "Epoch 57/100\n",
      "50000/50000 [==============================] - 10s 204us/step - loss: 0.1094 - acc: 0.9643 - val_loss: 3.4667 - val_acc: 0.5290\n",
      "Epoch 58/100\n",
      "50000/50000 [==============================] - 9s 182us/step - loss: 0.1210 - acc: 0.9601 - val_loss: 3.3643 - val_acc: 0.5330\n",
      "Epoch 59/100\n"
     ]
    },
    {
     "name": "stdout",
     "output_type": "stream",
     "text": [
      "50000/50000 [==============================] - 10s 191us/step - loss: 0.1069 - acc: 0.9643 - val_loss: 3.2516 - val_acc: 0.5227\n",
      "Epoch 60/100\n",
      "50000/50000 [==============================] - 9s 186us/step - loss: 0.1002 - acc: 0.9664 - val_loss: 3.3493 - val_acc: 0.5308\n",
      "Epoch 61/100\n",
      "50000/50000 [==============================] - 9s 180us/step - loss: 0.1034 - acc: 0.9661 - val_loss: 3.5026 - val_acc: 0.5301\n",
      "Epoch 62/100\n",
      "50000/50000 [==============================] - 9s 171us/step - loss: 0.1010 - acc: 0.9662 - val_loss: 3.3830 - val_acc: 0.5331\n",
      "Epoch 63/100\n",
      "50000/50000 [==============================] - 9s 173us/step - loss: 0.1027 - acc: 0.9659 - val_loss: 3.6331 - val_acc: 0.5328\n",
      "Epoch 64/100\n",
      "50000/50000 [==============================] - 9s 171us/step - loss: 0.0931 - acc: 0.9699 - val_loss: 3.5915 - val_acc: 0.5337\n",
      "Epoch 65/100\n",
      "50000/50000 [==============================] - 9s 170us/step - loss: 0.0982 - acc: 0.9679 - val_loss: 3.4207 - val_acc: 0.5195\n",
      "Epoch 66/100\n",
      "50000/50000 [==============================] - 9s 176us/step - loss: 0.0898 - acc: 0.9706 - val_loss: 3.4275 - val_acc: 0.5282\n",
      "Epoch 67/100\n",
      "50000/50000 [==============================] - 9s 187us/step - loss: 0.0900 - acc: 0.9702 - val_loss: 3.5659 - val_acc: 0.5306\n",
      "Epoch 68/100\n",
      "50000/50000 [==============================] - 9s 172us/step - loss: 0.1012 - acc: 0.9669 - val_loss: 3.5338 - val_acc: 0.5205\n",
      "Epoch 69/100\n",
      "50000/50000 [==============================] - 9s 171us/step - loss: 0.0965 - acc: 0.9682 - val_loss: 3.5454 - val_acc: 0.5279\n",
      "Epoch 70/100\n",
      "50000/50000 [==============================] - 8s 166us/step - loss: 0.0867 - acc: 0.9716 - val_loss: 3.5704 - val_acc: 0.5295\n",
      "Epoch 71/100\n",
      "50000/50000 [==============================] - 9s 171us/step - loss: 0.0837 - acc: 0.9736 - val_loss: 3.3679 - val_acc: 0.5289\n",
      "Epoch 72/100\n",
      "50000/50000 [==============================] - 9s 174us/step - loss: 0.0887 - acc: 0.9719 - val_loss: 3.5300 - val_acc: 0.5283\n",
      "Epoch 73/100\n",
      "50000/50000 [==============================] - 9s 174us/step - loss: 0.0732 - acc: 0.9759 - val_loss: 3.6856 - val_acc: 0.5329\n",
      "Epoch 74/100\n",
      "50000/50000 [==============================] - 9s 177us/step - loss: 0.0904 - acc: 0.9703 - val_loss: 3.5002 - val_acc: 0.5303\n",
      "Epoch 75/100\n",
      "50000/50000 [==============================] - 9s 179us/step - loss: 0.1005 - acc: 0.9682 - val_loss: 3.3870 - val_acc: 0.5309\n",
      "Epoch 76/100\n",
      "50000/50000 [==============================] - 9s 179us/step - loss: 0.0804 - acc: 0.9744 - val_loss: 3.6451 - val_acc: 0.5313\n",
      "Epoch 77/100\n",
      "50000/50000 [==============================] - 9s 182us/step - loss: 0.0818 - acc: 0.9738 - val_loss: 3.4382 - val_acc: 0.5334\n",
      "Epoch 78/100\n",
      "50000/50000 [==============================] - 9s 176us/step - loss: 0.0851 - acc: 0.9723 - val_loss: 3.6060 - val_acc: 0.5417\n",
      "Epoch 79/100\n",
      "50000/50000 [==============================] - 9s 181us/step - loss: 0.0854 - acc: 0.9732 - val_loss: 3.4506 - val_acc: 0.5325\n",
      "Epoch 80/100\n",
      "50000/50000 [==============================] - 9s 175us/step - loss: 0.0857 - acc: 0.9717 - val_loss: 3.4884 - val_acc: 0.5301\n",
      "Epoch 81/100\n",
      "50000/50000 [==============================] - 10s 196us/step - loss: 0.0789 - acc: 0.9740 - val_loss: 3.5707 - val_acc: 0.5265\n",
      "Epoch 82/100\n",
      "50000/50000 [==============================] - 9s 184us/step - loss: 0.0769 - acc: 0.9749 - val_loss: 3.5889 - val_acc: 0.5365\n",
      "Epoch 83/100\n",
      "50000/50000 [==============================] - 9s 187us/step - loss: 0.0737 - acc: 0.9766 - val_loss: 3.7545 - val_acc: 0.5346\n",
      "Epoch 84/100\n",
      "50000/50000 [==============================] - 10s 191us/step - loss: 0.0835 - acc: 0.9721 - val_loss: 3.5812 - val_acc: 0.5331\n",
      "Epoch 85/100\n",
      "50000/50000 [==============================] - 9s 179us/step - loss: 0.0763 - acc: 0.9759 - val_loss: 3.5748 - val_acc: 0.5301\n",
      "Epoch 86/100\n",
      "50000/50000 [==============================] - 9s 184us/step - loss: 0.0663 - acc: 0.9784 - val_loss: 3.7643 - val_acc: 0.5307\n",
      "Epoch 87/100\n",
      "50000/50000 [==============================] - 9s 180us/step - loss: 0.0720 - acc: 0.9767 - val_loss: 3.4753 - val_acc: 0.5343\n",
      "Epoch 88/100\n",
      "50000/50000 [==============================] - 9s 171us/step - loss: 0.0714 - acc: 0.9770 - val_loss: 3.5680 - val_acc: 0.5300\n",
      "Epoch 89/100\n",
      "50000/50000 [==============================] - 8s 168us/step - loss: 0.0795 - acc: 0.9745 - val_loss: 3.5999 - val_acc: 0.5315\n",
      "Epoch 90/100\n",
      "50000/50000 [==============================] - 9s 171us/step - loss: 0.0768 - acc: 0.9758 - val_loss: 3.3863 - val_acc: 0.5268\n",
      "Epoch 91/100\n",
      "50000/50000 [==============================] - 9s 174us/step - loss: 0.0707 - acc: 0.9767 - val_loss: 3.6460 - val_acc: 0.5375\n",
      "Epoch 92/100\n",
      "50000/50000 [==============================] - 9s 174us/step - loss: 0.0673 - acc: 0.9781 - val_loss: 3.5671 - val_acc: 0.5251\n",
      "Epoch 93/100\n",
      "50000/50000 [==============================] - 9s 176us/step - loss: 0.0634 - acc: 0.9798 - val_loss: 3.5978 - val_acc: 0.5253\n",
      "Epoch 94/100\n",
      "50000/50000 [==============================] - 9s 176us/step - loss: 0.0831 - acc: 0.9731 - val_loss: 3.6217 - val_acc: 0.5349\n",
      "Epoch 95/100\n",
      "50000/50000 [==============================] - 9s 181us/step - loss: 0.0678 - acc: 0.9785 - val_loss: 3.6696 - val_acc: 0.5306\n",
      "Epoch 96/100\n",
      "50000/50000 [==============================] - 9s 172us/step - loss: 0.0633 - acc: 0.9794 - val_loss: 3.8254 - val_acc: 0.5310\n",
      "Epoch 97/100\n",
      "50000/50000 [==============================] - 9s 174us/step - loss: 0.0684 - acc: 0.9784 - val_loss: 3.7149 - val_acc: 0.5397\n",
      "Epoch 98/100\n",
      "50000/50000 [==============================] - 9s 174us/step - loss: 0.0646 - acc: 0.9794 - val_loss: 3.5934 - val_acc: 0.5155\n",
      "Epoch 99/100\n",
      "50000/50000 [==============================] - 9s 175us/step - loss: 0.0743 - acc: 0.9760 - val_loss: 3.5654 - val_acc: 0.5284\n",
      "Epoch 100/100\n",
      "50000/50000 [==============================] - 9s 174us/step - loss: 0.0698 - acc: 0.9778 - val_loss: 3.6463 - val_acc: 0.5284\n"
     ]
    },
    {
     "data": {
      "text/plain": [
       "<keras.callbacks.History at 0xb3022f5f8>"
      ]
     },
     "execution_count": 9,
     "metadata": {},
     "output_type": "execute_result"
    }
   ],
   "source": [
    "model.fit(x_train, y_train, \n",
    "          epochs=EPOCHS, \n",
    "          batch_size=BATCH_SIZE, \n",
    "          validation_data=(x_test, y_test), \n",
    "          shuffle=True)"
   ]
  },
  {
   "cell_type": "code",
   "execution_count": 12,
   "metadata": {},
   "outputs": [],
   "source": [
    "import matplotlib.pyplot as plt\n",
    "\n",
    "\n",
    "train_loss = model.history.history[\"loss\"]\n",
    "valid_loss = model.history.history[\"val_loss\"]\n",
    "\n",
    "train_acc = model.history.history[\"acc\"]\n",
    "valid_acc = model.history.history[\"val_acc\"]\n",
    "\n"
   ]
  },
  {
   "cell_type": "code",
   "execution_count": 13,
   "metadata": {},
   "outputs": [
    {
     "data": {
      "image/png": "[encoded data removed]",
      "text/plain": [
       "<Figure size 432x288 with 1 Axes>"
      ]
     },
     "metadata": {
      "needs_background": "light"
     },
     "output_type": "display_data"
    }
   ],
   "source": [
    "\n",
    "plt.plot(range(len(train_loss)), train_loss, label=\"train loss\")\n",
    "plt.plot(range(len(valid_loss)), valid_loss, label=\"valid loss\")\n",
    "plt.legend()\n",
    "plt.title(\"Loss\")\n",
    "plt.show()"
   ]
  },
  {
   "cell_type": "code",
   "execution_count": 14,
   "metadata": {},
   "outputs": [
    {
     "data": {
      "image/png": "[encoded data removed]",
      "text/plain": [
       "<Figure size 432x288 with 1 Axes>"
      ]
     },
     "metadata": {
      "needs_background": "light"
     },
     "output_type": "display_data"
    }
   ],
   "source": [
    "plt.plot(range(len(train_acc)), train_acc, label=\"train accuracy\")\n",
    "plt.plot(range(len(valid_acc)), valid_acc, label=\"valid accuracy\")\n",
    "plt.legend()\n",
    "plt.title(\"Accuracy\")\n",
    "plt.show()"
   ]
  },
  {
   "cell_type": "code",
   "execution_count": null,
   "metadata": {},
   "outputs": [],
   "source": []
  }
 ],
 "metadata": {
  "kernelspec": {
   "display_name": "Python 3.6 (tensorflow)",
   "language": "python",
   "name": "tensorflow"
  },
  "language_info": {
   "codemirror_mode": {
    "name": "ipython",
    "version": 3
   },
   "file_extension": ".py",
   "mimetype": "text/x-python",
   "name": "python",
   "nbconvert_exporter": "python",
   "pygments_lexer": "ipython3",
   "version": "3.6.8"
  }
 },
 "nbformat": 4,
 "nbformat_minor": 2
}
