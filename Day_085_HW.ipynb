{
 "cells": [
  {
   "cell_type": "markdown",
   "metadata": {},
   "source": [
    "## Work\n",
    "1. 試改變 monitor \"Validation Accuracy\" 並比較結果\n",
    "2. 調整 earlystop 的等待次數至 10, 25 並比較結果"
   ]
  },
  {
   "cell_type": "code",
   "execution_count": 1,
   "metadata": {},
   "outputs": [
    {
     "name": "stderr",
     "output_type": "stream",
     "text": [
      "Using TensorFlow backend.\n"
     ]
    }
   ],
   "source": [
    "import os\n",
    "import keras\n",
    "import matplotlib.pyplot as plt\n",
    "%matplotlib inline\n",
    "\n",
    "\n",
    "# Disable GPU\n",
    "os.environ[\"CUDA_VISIBLE_DEVICES\"] = \"\""
   ]
  },
  {
   "cell_type": "code",
   "execution_count": 2,
   "metadata": {},
   "outputs": [],
   "source": [
    "train, test = keras.datasets.cifar10.load_data()"
   ]
  },
  {
   "cell_type": "code",
   "execution_count": 3,
   "metadata": {},
   "outputs": [],
   "source": [
    "## 資料前處理\n",
    "def preproc_x(x, flatten=True):\n",
    "    x = x / 255.\n",
    "    if flatten:\n",
    "        x = x.reshape((len(x), -1))\n",
    "    return x\n",
    "\n",
    "def preproc_y(y, num_classes=10):\n",
    "    if y.shape[-1] == 1:\n",
    "        y = keras.utils.to_categorical(y, num_classes)\n",
    "    return y    "
   ]
  },
  {
   "cell_type": "code",
   "execution_count": 4,
   "metadata": {},
   "outputs": [],
   "source": [
    "x_train, y_train = train\n",
    "x_test, y_test = test\n",
    "\n",
    "# Preproc the inputs\n",
    "x_train = preproc_x(x_train)\n",
    "x_test = preproc_x(x_test)\n",
    "\n",
    "# Preprc the outputs\n",
    "y_train = preproc_y(y_train)\n",
    "y_test = preproc_y(y_test)"
   ]
  },
  {
   "cell_type": "code",
   "execution_count": 5,
   "metadata": {},
   "outputs": [],
   "source": [
    "from keras.layers import BatchNormalization\n",
    "\n",
    "\"\"\"\n",
    "建立神經網路，並加入 BN layer\n",
    "\"\"\"\n",
    "def build_mlp(input_shape, output_units=10, num_neurons=[512, 256, 128]):\n",
    "    input_layer = keras.layers.Input(input_shape)\n",
    "    \n",
    "    for i, n_units in enumerate(num_neurons):\n",
    "        if i == 0:\n",
    "            x = keras.layers.Dense(units=n_units, \n",
    "                                   activation=\"relu\", \n",
    "                                   name=\"hidden_layer\"+str(i+1))(input_layer)\n",
    "            x = BatchNormalization()(x)\n",
    "        else:\n",
    "            x = keras.layers.Dense(units=n_units, \n",
    "                                   activation=\"relu\", \n",
    "                                   name=\"hidden_layer\"+str(i+1))(x)\n",
    "            x = BatchNormalization()(x)\n",
    "    \n",
    "    out = keras.layers.Dense(units=output_units, activation=\"softmax\", name=\"output\")(x)\n",
    "    \n",
    "    model = keras.models.Model(inputs=[input_layer], outputs=[out])\n",
    "    return model"
   ]
  },
  {
   "cell_type": "code",
   "execution_count": 8,
   "metadata": {},
   "outputs": [],
   "source": [
    "## 超參數設定\n",
    "LEARNING_RATE = 1e-3\n",
    "EPOCHS = 30\n",
    "BATCH_SIZE = 1024\n",
    "MOMENTUM = 0.95"
   ]
  },
  {
   "cell_type": "code",
   "execution_count": 10,
   "metadata": {},
   "outputs": [
    {
     "name": "stdout",
     "output_type": "stream",
     "text": [
      "_________________________________________________________________\n",
      "Layer (type)                 Output Shape              Param #   \n",
      "=================================================================\n",
      "input_3 (InputLayer)         (None, 3072)              0         \n",
      "_________________________________________________________________\n",
      "hidden_layer1 (Dense)        (None, 512)               1573376   \n",
      "_________________________________________________________________\n",
      "batch_normalization_7 (Batch (None, 512)               2048      \n",
      "_________________________________________________________________\n",
      "hidden_layer2 (Dense)        (None, 256)               131328    \n",
      "_________________________________________________________________\n",
      "batch_normalization_8 (Batch (None, 256)               1024      \n",
      "_________________________________________________________________\n",
      "hidden_layer3 (Dense)        (None, 128)               32896     \n",
      "_________________________________________________________________\n",
      "batch_normalization_9 (Batch (None, 128)               512       \n",
      "_________________________________________________________________\n",
      "output (Dense)               (None, 10)                1290      \n",
      "=================================================================\n",
      "Total params: 1,742,474\n",
      "Trainable params: 1,740,682\n",
      "Non-trainable params: 1,792\n",
      "_________________________________________________________________\n",
      "Train on 50000 samples, validate on 10000 samples\n",
      "Epoch 1/30\n",
      "50000/50000 [==============================] - 8s 166us/step - loss: 2.2809 - acc: 0.2628 - val_loss: 2.0710 - val_acc: 0.3203\n",
      "Epoch 2/30\n",
      "50000/50000 [==============================] - 6s 113us/step - loss: 1.7544 - acc: 0.3902 - val_loss: 1.8285 - val_acc: 0.3831\n",
      "Epoch 3/30\n",
      "50000/50000 [==============================] - 5s 108us/step - loss: 1.6255 - acc: 0.4331 - val_loss: 1.7180 - val_acc: 0.4073\n",
      "Epoch 4/30\n",
      "50000/50000 [==============================] - 5s 107us/step - loss: 1.5502 - acc: 0.4593 - val_loss: 1.6401 - val_acc: 0.4289\n",
      "Epoch 5/30\n",
      "50000/50000 [==============================] - 5s 107us/step - loss: 1.4954 - acc: 0.4804 - val_loss: 1.6209 - val_acc: 0.4344\n",
      "Epoch 6/30\n",
      "50000/50000 [==============================] - 5s 109us/step - loss: 1.4476 - acc: 0.4960 - val_loss: 1.5749 - val_acc: 0.4505\n",
      "Epoch 7/30\n",
      "50000/50000 [==============================] - 5s 108us/step - loss: 1.4068 - acc: 0.5106 - val_loss: 1.5555 - val_acc: 0.4576\n",
      "Epoch 8/30\n",
      "50000/50000 [==============================] - 5s 107us/step - loss: 1.3700 - acc: 0.5229 - val_loss: 1.5352 - val_acc: 0.4579\n",
      "Epoch 9/30\n",
      "50000/50000 [==============================] - 6s 110us/step - loss: 1.3365 - acc: 0.5350 - val_loss: 1.5281 - val_acc: 0.4614\n",
      "Epoch 10/30\n",
      "50000/50000 [==============================] - 5s 109us/step - loss: 1.3045 - acc: 0.5472 - val_loss: 1.5065 - val_acc: 0.4689\n",
      "Epoch 11/30\n",
      "50000/50000 [==============================] - 5s 109us/step - loss: 1.2764 - acc: 0.5576 - val_loss: 1.5063 - val_acc: 0.4732\n",
      "Epoch 12/30\n",
      "50000/50000 [==============================] - 5s 108us/step - loss: 1.2496 - acc: 0.5669 - val_loss: 1.4803 - val_acc: 0.4838\n",
      "Epoch 13/30\n",
      "50000/50000 [==============================] - 5s 110us/step - loss: 1.2225 - acc: 0.5771 - val_loss: 1.4821 - val_acc: 0.4786\n",
      "Epoch 14/30\n",
      "50000/50000 [==============================] - 5s 109us/step - loss: 1.1964 - acc: 0.5860 - val_loss: 1.4764 - val_acc: 0.4834\n",
      "Epoch 15/30\n",
      "50000/50000 [==============================] - 6s 110us/step - loss: 1.1721 - acc: 0.5963 - val_loss: 1.4817 - val_acc: 0.4814\n",
      "Epoch 16/30\n",
      "50000/50000 [==============================] - 6s 111us/step - loss: 1.1480 - acc: 0.6063 - val_loss: 1.4670 - val_acc: 0.4860\n",
      "Epoch 17/30\n",
      "50000/50000 [==============================] - 6s 117us/step - loss: 1.1257 - acc: 0.6135 - val_loss: 1.4602 - val_acc: 0.4885\n",
      "Epoch 18/30\n",
      "50000/50000 [==============================] - 6s 116us/step - loss: 1.1027 - acc: 0.6229 - val_loss: 1.4605 - val_acc: 0.4940\n",
      "Epoch 19/30\n",
      "50000/50000 [==============================] - 6s 117us/step - loss: 1.0820 - acc: 0.6308 - val_loss: 1.4676 - val_acc: 0.4871\n",
      "Epoch 20/30\n",
      "50000/50000 [==============================] - 6s 124us/step - loss: 1.0575 - acc: 0.6409 - val_loss: 1.4644 - val_acc: 0.4901\n",
      "Epoch 21/30\n",
      "50000/50000 [==============================] - 6s 118us/step - loss: 1.0361 - acc: 0.6482 - val_loss: 1.4620 - val_acc: 0.4873\n",
      "Epoch 22/30\n",
      "50000/50000 [==============================] - 6s 117us/step - loss: 1.0152 - acc: 0.6554 - val_loss: 1.4579 - val_acc: 0.4964\n",
      "Epoch 23/30\n",
      "50000/50000 [==============================] - 6s 118us/step - loss: 0.9947 - acc: 0.6641 - val_loss: 1.4649 - val_acc: 0.4937\n",
      "Epoch 24/30\n",
      "50000/50000 [==============================] - 6s 116us/step - loss: 0.9762 - acc: 0.6692 - val_loss: 1.4643 - val_acc: 0.4931\n",
      "Epoch 25/30\n",
      "50000/50000 [==============================] - 6s 115us/step - loss: 0.9539 - acc: 0.6790 - val_loss: 1.4681 - val_acc: 0.4940\n",
      "Epoch 26/30\n",
      "50000/50000 [==============================] - 6s 114us/step - loss: 0.9324 - acc: 0.6866 - val_loss: 1.4721 - val_acc: 0.4904\n",
      "Epoch 27/30\n",
      "50000/50000 [==============================] - 6s 112us/step - loss: 0.9124 - acc: 0.6962 - val_loss: 1.4655 - val_acc: 0.4954\n",
      "Epoch 28/30\n",
      "50000/50000 [==============================] - 5s 109us/step - loss: 0.8924 - acc: 0.7031 - val_loss: 1.4727 - val_acc: 0.4930\n",
      "Epoch 29/30\n",
      "50000/50000 [==============================] - 5s 109us/step - loss: 0.8729 - acc: 0.7106 - val_loss: 1.4851 - val_acc: 0.4953\n",
      "Epoch 30/30\n",
      "50000/50000 [==============================] - 6s 111us/step - loss: 0.8536 - acc: 0.7175 - val_loss: 1.4940 - val_acc: 0.4939\n"
     ]
    }
   ],
   "source": [
    "\"\"\"\n",
    "# 載入 Callbacks, 並將 monitor 設定為監控 validation loss\n",
    "\"\"\"\n",
    "from keras.callbacks import EarlyStopping\n",
    "\n",
    "earlystop = EarlyStopping(monitor=\"val_acc\", \n",
    "                          patience=10, \n",
    "                          verbose=1\n",
    "                          )\n",
    "\n",
    "# results = {}\n",
    "model = build_mlp(input_shape=x_train.shape[1:])\n",
    "model.summary()\n",
    "optimizer = keras.optimizers.SGD(lr=LEARNING_RATE, nesterov=True, momentum=MOMENTUM)\n",
    "model.compile(loss=\"categorical_crossentropy\", metrics=[\"accuracy\"], optimizer=optimizer)\n",
    "\n",
    "model.fit(x_train, y_train, \n",
    "          epochs=EPOCHS, \n",
    "          batch_size=BATCH_SIZE, \n",
    "          validation_data=(x_test, y_test), \n",
    "          shuffle=True,\n",
    "          callbacks=[earlystop]\n",
    "         )\n",
    "\n",
    "# Collect results\n",
    "train_loss = model.history.history[\"loss\"]\n",
    "valid_loss = model.history.history[\"val_loss\"]\n",
    "train_acc = model.history.history[\"acc\"]\n",
    "valid_acc = model.history.history[\"val_acc\"]\n",
    "\n",
    "# exp_name_tag = \"exp-l2-%s\" % str(bachSize)\n",
    "# results[exp_name_tag] = {'train-loss': train_loss,\n",
    "#                          'valid-loss': valid_loss,\n",
    "#                          'train-acc': train_acc,\n",
    "#                          'valid-acc': valid_acc}"
   ]
  },
  {
   "cell_type": "code",
   "execution_count": 11,
   "metadata": {},
   "outputs": [
    {
     "data": {
      "image/png": "[encoded data removed]",
      "text/plain": [
       "<Figure size 432x288 with 1 Axes>"
      ]
     },
     "metadata": {
      "needs_background": "light"
     },
     "output_type": "display_data"
    },
    {
     "data": {
      "image/png": "[encoded data removed]",
      "text/plain": [
       "<Figure size 432x288 with 1 Axes>"
      ]
     },
     "metadata": {
      "needs_background": "light"
     },
     "output_type": "display_data"
    }
   ],
   "source": [
    "import matplotlib.pyplot as plt\n",
    "%matplotlib inline\n",
    "\n",
    "plt.plot(range(len(train_loss)), train_loss, label=\"train loss\")\n",
    "plt.plot(range(len(valid_loss)), valid_loss, label=\"valid loss\")\n",
    "plt.legend()\n",
    "plt.title(\"Loss\")\n",
    "plt.show()\n",
    "\n",
    "plt.plot(range(len(train_acc)), train_acc, label=\"train accuracy\")\n",
    "plt.plot(range(len(valid_acc)), valid_acc, label=\"valid accuracy\")\n",
    "plt.legend()\n",
    "plt.title(\"Accuracy\")\n",
    "plt.show()"
   ]
  },
  {
   "cell_type": "code",
   "execution_count": 12,
   "metadata": {},
   "outputs": [
    {
     "name": "stdout",
     "output_type": "stream",
     "text": [
      "_________________________________________________________________\n",
      "Layer (type)                 Output Shape              Param #   \n",
      "=================================================================\n",
      "input_4 (InputLayer)         (None, 3072)              0         \n",
      "_________________________________________________________________\n",
      "hidden_layer1 (Dense)        (None, 512)               1573376   \n",
      "_________________________________________________________________\n",
      "batch_normalization_10 (Batc (None, 512)               2048      \n",
      "_________________________________________________________________\n",
      "hidden_layer2 (Dense)        (None, 256)               131328    \n",
      "_________________________________________________________________\n",
      "batch_normalization_11 (Batc (None, 256)               1024      \n",
      "_________________________________________________________________\n",
      "hidden_layer3 (Dense)        (None, 128)               32896     \n",
      "_________________________________________________________________\n",
      "batch_normalization_12 (Batc (None, 128)               512       \n",
      "_________________________________________________________________\n",
      "output (Dense)               (None, 10)                1290      \n",
      "=================================================================\n",
      "Total params: 1,742,474\n",
      "Trainable params: 1,740,682\n",
      "Non-trainable params: 1,792\n",
      "_________________________________________________________________\n",
      "Train on 50000 samples, validate on 10000 samples\n",
      "Epoch 1/30\n",
      "50000/50000 [==============================] - 7s 142us/step - loss: 2.2014 - acc: 0.2718 - val_loss: 2.0931 - val_acc: 0.3280\n",
      "Epoch 2/30\n",
      "50000/50000 [==============================] - 6s 111us/step - loss: 1.7426 - acc: 0.3963 - val_loss: 1.8101 - val_acc: 0.3945\n",
      "Epoch 3/30\n",
      "50000/50000 [==============================] - 5s 110us/step - loss: 1.6188 - acc: 0.4354 - val_loss: 1.6803 - val_acc: 0.4148\n",
      "Epoch 4/30\n",
      "50000/50000 [==============================] - 6s 110us/step - loss: 1.5465 - acc: 0.4599 - val_loss: 1.6255 - val_acc: 0.4303\n",
      "Epoch 5/30\n",
      "50000/50000 [==============================] - 6s 112us/step - loss: 1.4907 - acc: 0.4805 - val_loss: 1.5946 - val_acc: 0.4425\n",
      "Epoch 6/30\n",
      "50000/50000 [==============================] - 6s 113us/step - loss: 1.4459 - acc: 0.4962 - val_loss: 1.5615 - val_acc: 0.4565\n",
      "Epoch 7/30\n",
      "50000/50000 [==============================] - 6s 111us/step - loss: 1.4055 - acc: 0.5119 - val_loss: 1.5594 - val_acc: 0.4586\n",
      "Epoch 8/30\n",
      "50000/50000 [==============================] - 6s 111us/step - loss: 1.3717 - acc: 0.5226 - val_loss: 1.5354 - val_acc: 0.4639\n",
      "Epoch 9/30\n",
      "50000/50000 [==============================] - 6s 112us/step - loss: 1.3387 - acc: 0.5367 - val_loss: 1.5117 - val_acc: 0.4695\n",
      "Epoch 10/30\n",
      "50000/50000 [==============================] - 6s 112us/step - loss: 1.3084 - acc: 0.5460 - val_loss: 1.4922 - val_acc: 0.4811\n",
      "Epoch 11/30\n",
      "50000/50000 [==============================] - 6s 111us/step - loss: 1.2816 - acc: 0.5562 - val_loss: 1.4955 - val_acc: 0.4758\n",
      "Epoch 12/30\n",
      "50000/50000 [==============================] - 6s 112us/step - loss: 1.2551 - acc: 0.5675 - val_loss: 1.4729 - val_acc: 0.4805\n",
      "Epoch 13/30\n",
      "50000/50000 [==============================] - 6s 117us/step - loss: 1.2299 - acc: 0.5770 - val_loss: 1.4719 - val_acc: 0.4820\n",
      "Epoch 14/30\n",
      "50000/50000 [==============================] - 6s 117us/step - loss: 1.2031 - acc: 0.5869 - val_loss: 1.4655 - val_acc: 0.4878\n",
      "Epoch 15/30\n",
      "50000/50000 [==============================] - 6s 115us/step - loss: 1.1795 - acc: 0.5942 - val_loss: 1.4534 - val_acc: 0.4860\n",
      "Epoch 16/30\n",
      "50000/50000 [==============================] - 6s 115us/step - loss: 1.1550 - acc: 0.6047 - val_loss: 1.4538 - val_acc: 0.4861\n",
      "Epoch 17/30\n",
      "50000/50000 [==============================] - 6s 119us/step - loss: 1.1340 - acc: 0.6127 - val_loss: 1.4556 - val_acc: 0.4860\n",
      "Epoch 18/30\n",
      "50000/50000 [==============================] - 6s 115us/step - loss: 1.1122 - acc: 0.6192 - val_loss: 1.4605 - val_acc: 0.4931\n",
      "Epoch 19/30\n",
      "50000/50000 [==============================] - 6s 118us/step - loss: 1.0899 - acc: 0.6284 - val_loss: 1.4481 - val_acc: 0.4928\n",
      "Epoch 20/30\n",
      "50000/50000 [==============================] - 6s 117us/step - loss: 1.0705 - acc: 0.6342 - val_loss: 1.4484 - val_acc: 0.4935\n",
      "Epoch 21/30\n",
      "50000/50000 [==============================] - 6s 111us/step - loss: 1.0495 - acc: 0.6446 - val_loss: 1.4508 - val_acc: 0.4962\n",
      "Epoch 22/30\n",
      "50000/50000 [==============================] - 6s 110us/step - loss: 1.0271 - acc: 0.6527 - val_loss: 1.4548 - val_acc: 0.4959\n",
      "Epoch 23/30\n",
      "50000/50000 [==============================] - 6s 110us/step - loss: 1.0049 - acc: 0.6629 - val_loss: 1.4514 - val_acc: 0.4944\n",
      "Epoch 24/30\n",
      "50000/50000 [==============================] - 6s 111us/step - loss: 0.9851 - acc: 0.6679 - val_loss: 1.4599 - val_acc: 0.4925\n",
      "Epoch 25/30\n",
      "50000/50000 [==============================] - 6s 127us/step - loss: 0.9637 - acc: 0.6758 - val_loss: 1.4485 - val_acc: 0.4971\n",
      "Epoch 26/30\n",
      "50000/50000 [==============================] - 6s 115us/step - loss: 0.9453 - acc: 0.6843 - val_loss: 1.4494 - val_acc: 0.4968\n",
      "Epoch 27/30\n",
      "50000/50000 [==============================] - 6s 110us/step - loss: 0.9253 - acc: 0.6910 - val_loss: 1.4709 - val_acc: 0.4963\n",
      "Epoch 28/30\n",
      "50000/50000 [==============================] - 6s 110us/step - loss: 0.9067 - acc: 0.6975 - val_loss: 1.4681 - val_acc: 0.4931\n",
      "Epoch 29/30\n",
      "50000/50000 [==============================] - 6s 111us/step - loss: 0.8873 - acc: 0.7071 - val_loss: 1.4654 - val_acc: 0.4985\n",
      "Epoch 30/30\n",
      "50000/50000 [==============================] - 5s 107us/step - loss: 0.8667 - acc: 0.7146 - val_loss: 1.4840 - val_acc: 0.4964\n"
     ]
    }
   ],
   "source": [
    "\"\"\"\n",
    "# 載入 Callbacks, 並將 monitor 設定為監控 validation loss\n",
    "\"\"\"\n",
    "from keras.callbacks import EarlyStopping\n",
    "\n",
    "earlystop = EarlyStopping(monitor=\"val_acc\", \n",
    "                          patience=25, \n",
    "                          verbose=1\n",
    "                          )\n",
    "\n",
    "model = build_mlp(input_shape=x_train.shape[1:])\n",
    "model.summary()\n",
    "optimizer = keras.optimizers.SGD(lr=LEARNING_RATE, nesterov=True, momentum=MOMENTUM)\n",
    "model.compile(loss=\"categorical_crossentropy\", metrics=[\"accuracy\"], optimizer=optimizer)\n",
    "\n",
    "model.fit(x_train, y_train, \n",
    "          epochs=EPOCHS, \n",
    "          batch_size=BATCH_SIZE, \n",
    "          validation_data=(x_test, y_test), \n",
    "          shuffle=True,\n",
    "          callbacks=[earlystop]\n",
    "         )\n",
    "\n",
    "# Collect results\n",
    "train_loss = model.history.history[\"loss\"]\n",
    "valid_loss = model.history.history[\"val_loss\"]\n",
    "train_acc = model.history.history[\"acc\"]\n",
    "valid_acc = model.history.history[\"val_acc\"]\n"
   ]
  },
  {
   "cell_type": "code",
   "execution_count": 13,
   "metadata": {},
   "outputs": [
    {
     "data": {
      "image/png": "[encoded data removed]",
      "text/plain": [
       "<Figure size 432x288 with 1 Axes>"
      ]
     },
     "metadata": {
      "needs_background": "light"
     },
     "output_type": "display_data"
    },
    {
     "data": {
      "image/png": "[encoded data removed]",
      "text/plain": [
       "<Figure size 432x288 with 1 Axes>"
      ]
     },
     "metadata": {
      "needs_background": "light"
     },
     "output_type": "display_data"
    }
   ],
   "source": [
    "import matplotlib.pyplot as plt\n",
    "%matplotlib inline\n",
    "\n",
    "plt.plot(range(len(train_loss)), train_loss, label=\"train loss\")\n",
    "plt.plot(range(len(valid_loss)), valid_loss, label=\"valid loss\")\n",
    "plt.legend()\n",
    "plt.title(\"Loss\")\n",
    "plt.show()\n",
    "\n",
    "plt.plot(range(len(train_acc)), train_acc, label=\"train accuracy\")\n",
    "plt.plot(range(len(valid_acc)), valid_acc, label=\"valid accuracy\")\n",
    "plt.legend()\n",
    "plt.title(\"Accuracy\")\n",
    "plt.show()"
   ]
  },
  {
   "cell_type": "code",
   "execution_count": null,
   "metadata": {},
   "outputs": [],
   "source": []
  }
 ],
 "metadata": {
  "kernelspec": {
   "display_name": "Python 3.6 (tensorflow)",
   "language": "python",
   "name": "tensorflow"
  },
  "language_info": {
   "codemirror_mode": {
    "name": "ipython",
    "version": 3
   },
   "file_extension": ".py",
   "mimetype": "text/x-python",
   "name": "python",
   "nbconvert_exporter": "python",
   "pygments_lexer": "ipython3",
   "version": "3.6.8"
  }
 },
 "nbformat": 4,
 "nbformat_minor": 2
}
